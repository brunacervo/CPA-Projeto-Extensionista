{
 "cells": [
  {
   "cell_type": "markdown",
   "metadata": {
    "id": "6ttCSab5XQX1"
   },
   "source": [
    "**ALUNOS:** Bruna Cervo, Eduardo Barbosa, Isadora Brust e Isadora Teixeira\n",
    "\n",
    "**DISCIPLINA:** Coleta, Preparação e Análise de dados\n",
    "\n",
    "**TURMA:** 10"
   ]
  },
  {
   "cell_type": "markdown",
   "metadata": {
    "id": "M3Z7Sje8iQFl"
   },
   "source": [
    "# Imports"
   ]
  },
  {
   "cell_type": "code",
   "execution_count": 39,
   "metadata": {
    "id": "V0TCQLYciMQB"
   },
   "outputs": [],
   "source": [
    "import pandas as pd\n",
    "import matplotlib.pyplot as plt\n",
    "import seaborn as sns"
   ]
  },
  {
   "cell_type": "markdown",
   "metadata": {
    "id": "qlOUZphPiWq9"
   },
   "source": [
    "# SAEB"
   ]
  },
  {
   "cell_type": "code",
   "execution_count": 5,
   "metadata": {
    "colab": {
     "base_uri": "https://localhost:8080/",
     "height": 226
    },
    "id": "u1f2TsWymSu8",
    "outputId": "efdc6d19-2e53-4adc-95cc-7d26d61bb4d1"
   },
   "outputs": [
    {
     "data": {
      "text/html": [
       "<div>\n",
       "<style scoped>\n",
       "    .dataframe tbody tr th:only-of-type {\n",
       "        vertical-align: middle;\n",
       "    }\n",
       "\n",
       "    .dataframe tbody tr th {\n",
       "        vertical-align: top;\n",
       "    }\n",
       "\n",
       "    .dataframe thead th {\n",
       "        text-align: right;\n",
       "    }\n",
       "</style>\n",
       "<table border=\"1\" class=\"dataframe\">\n",
       "  <thead>\n",
       "    <tr style=\"text-align: right;\">\n",
       "      <th></th>\n",
       "      <th>ID_SAEB</th>\n",
       "      <th>ID_REGIAO</th>\n",
       "      <th>ID_UF</th>\n",
       "      <th>IN_PREENCHIMENTO_LP</th>\n",
       "      <th>IN_PREENCHIMENTO_MT</th>\n",
       "      <th>IN_PREENCHIMENTO_CH</th>\n",
       "      <th>IN_PREENCHIMENTO_CN</th>\n",
       "      <th>PROFICIENCIA_LP_SAEB</th>\n",
       "      <th>PROFICIENCIA_MT_SAEB</th>\n",
       "      <th>PROFICIENCIA_CH_SAEB</th>\n",
       "      <th>PROFICIENCIA_CN_SAEB</th>\n",
       "    </tr>\n",
       "  </thead>\n",
       "  <tbody>\n",
       "    <tr>\n",
       "      <th>0</th>\n",
       "      <td>2023</td>\n",
       "      <td>3</td>\n",
       "      <td>31</td>\n",
       "      <td>0</td>\n",
       "      <td>0</td>\n",
       "      <td>NaN</td>\n",
       "      <td>NaN</td>\n",
       "      <td>NaN</td>\n",
       "      <td>NaN</td>\n",
       "      <td>NaN</td>\n",
       "      <td>NaN</td>\n",
       "    </tr>\n",
       "    <tr>\n",
       "      <th>1</th>\n",
       "      <td>2023</td>\n",
       "      <td>3</td>\n",
       "      <td>31</td>\n",
       "      <td>0</td>\n",
       "      <td>0</td>\n",
       "      <td>NaN</td>\n",
       "      <td>NaN</td>\n",
       "      <td>NaN</td>\n",
       "      <td>NaN</td>\n",
       "      <td>NaN</td>\n",
       "      <td>NaN</td>\n",
       "    </tr>\n",
       "    <tr>\n",
       "      <th>2</th>\n",
       "      <td>2023</td>\n",
       "      <td>3</td>\n",
       "      <td>31</td>\n",
       "      <td>1</td>\n",
       "      <td>1</td>\n",
       "      <td>NaN</td>\n",
       "      <td>NaN</td>\n",
       "      <td>297429851.0</td>\n",
       "      <td>313841375.0</td>\n",
       "      <td>NaN</td>\n",
       "      <td>NaN</td>\n",
       "    </tr>\n",
       "    <tr>\n",
       "      <th>3</th>\n",
       "      <td>2023</td>\n",
       "      <td>3</td>\n",
       "      <td>31</td>\n",
       "      <td>1</td>\n",
       "      <td>1</td>\n",
       "      <td>NaN</td>\n",
       "      <td>NaN</td>\n",
       "      <td>320615893.0</td>\n",
       "      <td>242893387.0</td>\n",
       "      <td>NaN</td>\n",
       "      <td>NaN</td>\n",
       "    </tr>\n",
       "    <tr>\n",
       "      <th>4</th>\n",
       "      <td>2023</td>\n",
       "      <td>3</td>\n",
       "      <td>31</td>\n",
       "      <td>1</td>\n",
       "      <td>1</td>\n",
       "      <td>NaN</td>\n",
       "      <td>NaN</td>\n",
       "      <td>335198776.0</td>\n",
       "      <td>20278332.0</td>\n",
       "      <td>NaN</td>\n",
       "      <td>NaN</td>\n",
       "    </tr>\n",
       "  </tbody>\n",
       "</table>\n",
       "</div>"
      ],
      "text/plain": [
       "   ID_SAEB  ID_REGIAO  ID_UF  IN_PREENCHIMENTO_LP  IN_PREENCHIMENTO_MT  \\\n",
       "0     2023          3     31                    0                    0   \n",
       "1     2023          3     31                    0                    0   \n",
       "2     2023          3     31                    1                    1   \n",
       "3     2023          3     31                    1                    1   \n",
       "4     2023          3     31                    1                    1   \n",
       "\n",
       "   IN_PREENCHIMENTO_CH  IN_PREENCHIMENTO_CN  PROFICIENCIA_LP_SAEB  \\\n",
       "0                  NaN                  NaN                   NaN   \n",
       "1                  NaN                  NaN                   NaN   \n",
       "2                  NaN                  NaN           297429851.0   \n",
       "3                  NaN                  NaN           320615893.0   \n",
       "4                  NaN                  NaN           335198776.0   \n",
       "\n",
       "   PROFICIENCIA_MT_SAEB  PROFICIENCIA_CH_SAEB  PROFICIENCIA_CN_SAEB  \n",
       "0                   NaN                   NaN                   NaN  \n",
       "1                   NaN                   NaN                   NaN  \n",
       "2           313841375.0                   NaN                   NaN  \n",
       "3           242893387.0                   NaN                   NaN  \n",
       "4            20278332.0                   NaN                   NaN  "
      ]
     },
     "execution_count": 5,
     "metadata": {},
     "output_type": "execute_result"
    }
   ],
   "source": [
    "# Ler arquivos Excel\n",
    "df1 = pd.read_excel('id3.xlsx')\n",
    "df2 = pd.read_excel('id4.xlsx')\n",
    "\n",
    "# Concatenar os dois DataFrames\n",
    "df_concatenado = pd.concat([df1, df2], ignore_index=True)\n",
    "\n",
    "# Exibir as primeiras linhas\n",
    "df_concatenado.head()"
   ]
  },
  {
   "cell_type": "code",
   "execution_count": 6,
   "metadata": {
    "id": "ddehh4d7rTm5"
   },
   "outputs": [],
   "source": [
    "# Excluir colunas\n",
    "df_concatenado.drop(columns=[\n",
    "    'ID_SAEB',\n",
    "    'IN_PREENCHIMENTO_LP',\n",
    "    'IN_PREENCHIMENTO_MT',\n",
    "    'IN_PREENCHIMENTO_CH',\n",
    "    'IN_PREENCHIMENTO_CN',\n",
    "    'PROFICIENCIA_CH_SAEB',\n",
    "    'PROFICIENCIA_CN_SAEB'\n",
    "], inplace=True)"
   ]
  },
  {
   "cell_type": "code",
   "execution_count": 7,
   "metadata": {
    "id": "a_wb-jxSuB0l"
   },
   "outputs": [],
   "source": [
    "# Substitui os códigos numéricos das UF por suas siglas\n",
    "df_concatenado['ID_UF'] = df_concatenado['ID_UF'].replace({\n",
    "    35: 'SP',\n",
    "    31: 'MG',\n",
    "    33: 'RJ',\n",
    "    41: 'PR',\n",
    "    43: 'RS',\n",
    "    42: 'SC',\n",
    "    32: 'ES'\n",
    "})"
   ]
  },
  {
   "cell_type": "code",
   "execution_count": 8,
   "metadata": {
    "colab": {
     "base_uri": "https://localhost:8080/"
    },
    "id": "bepFtcDTvOVX",
    "outputId": "893996aa-60cb-4701-9e0b-75045f7407c3"
   },
   "outputs": [
    {
     "name": "stdout",
     "output_type": "stream",
     "text": [
      "PROFICIENCIA_LP_SAEB    220689\n",
      "PROFICIENCIA_MT_SAEB    220689\n",
      "dtype: int64\n"
     ]
    }
   ],
   "source": [
    "# Calcula a quantidade de valores faltantes em cada coluna do DataFrame\n",
    "faltantes = df_concatenado.isnull().sum()\n",
    "print(faltantes[faltantes > 0])"
   ]
  },
  {
   "cell_type": "code",
   "execution_count": 9,
   "metadata": {
    "colab": {
     "base_uri": "https://localhost:8080/"
    },
    "id": "UXtlsKrT1lTv",
    "outputId": "86711411-d994-4402-bf26-74c45349fc5b"
   },
   "outputs": [
    {
     "name": "stdout",
     "output_type": "stream",
     "text": [
      "(1066048, 4)\n"
     ]
    }
   ],
   "source": [
    "# Exclui linhas com dados faltantes\n",
    "df_concatenado.dropna(inplace=True)\n",
    "\n",
    "print(df_concatenado.shape)"
   ]
  },
  {
   "cell_type": "code",
   "execution_count": 10,
   "metadata": {
    "colab": {
     "base_uri": "https://localhost:8080/",
     "height": 206
    },
    "id": "MWXzb945ZgQY",
    "outputId": "6d5e543f-986b-4f01-e82b-a34936a90e95"
   },
   "outputs": [
    {
     "data": {
      "text/html": [
       "<div>\n",
       "<style scoped>\n",
       "    .dataframe tbody tr th:only-of-type {\n",
       "        vertical-align: middle;\n",
       "    }\n",
       "\n",
       "    .dataframe tbody tr th {\n",
       "        vertical-align: top;\n",
       "    }\n",
       "\n",
       "    .dataframe thead th {\n",
       "        text-align: right;\n",
       "    }\n",
       "</style>\n",
       "<table border=\"1\" class=\"dataframe\">\n",
       "  <thead>\n",
       "    <tr style=\"text-align: right;\">\n",
       "      <th></th>\n",
       "      <th>ID_REGIAO</th>\n",
       "      <th>ID_UF</th>\n",
       "      <th>PROFICIENCIA_LP_SAEB</th>\n",
       "      <th>PROFICIENCIA_MT_SAEB</th>\n",
       "    </tr>\n",
       "  </thead>\n",
       "  <tbody>\n",
       "    <tr>\n",
       "      <th>2</th>\n",
       "      <td>3</td>\n",
       "      <td>MG</td>\n",
       "      <td>297429851.0</td>\n",
       "      <td>313841375.0</td>\n",
       "    </tr>\n",
       "    <tr>\n",
       "      <th>3</th>\n",
       "      <td>3</td>\n",
       "      <td>MG</td>\n",
       "      <td>320615893.0</td>\n",
       "      <td>242893387.0</td>\n",
       "    </tr>\n",
       "    <tr>\n",
       "      <th>4</th>\n",
       "      <td>3</td>\n",
       "      <td>MG</td>\n",
       "      <td>335198776.0</td>\n",
       "      <td>20278332.0</td>\n",
       "    </tr>\n",
       "    <tr>\n",
       "      <th>5</th>\n",
       "      <td>3</td>\n",
       "      <td>MG</td>\n",
       "      <td>194080928.0</td>\n",
       "      <td>268356366.0</td>\n",
       "    </tr>\n",
       "    <tr>\n",
       "      <th>6</th>\n",
       "      <td>3</td>\n",
       "      <td>MG</td>\n",
       "      <td>218579294.0</td>\n",
       "      <td>25718785.0</td>\n",
       "    </tr>\n",
       "  </tbody>\n",
       "</table>\n",
       "</div>"
      ],
      "text/plain": [
       "   ID_REGIAO ID_UF  PROFICIENCIA_LP_SAEB  PROFICIENCIA_MT_SAEB\n",
       "2          3    MG           297429851.0           313841375.0\n",
       "3          3    MG           320615893.0           242893387.0\n",
       "4          3    MG           335198776.0            20278332.0\n",
       "5          3    MG           194080928.0           268356366.0\n",
       "6          3    MG           218579294.0            25718785.0"
      ]
     },
     "execution_count": 10,
     "metadata": {},
     "output_type": "execute_result"
    }
   ],
   "source": [
    "df_concatenado.head()"
   ]
  },
  {
   "cell_type": "code",
   "execution_count": 11,
   "metadata": {
    "id": "YMFO8KDR0A23"
   },
   "outputs": [],
   "source": [
    "# Corrige os valores da coluna de proficiência em Língua Portuguesa e Matemática\n",
    "# Os dados estavam em uma escala muito grande então dividimos por 1 milhão para deixa-los na escala correta\n",
    "df_concatenado['PROFICIENCIA_LP_SAEB'] = df_concatenado['PROFICIENCIA_LP_SAEB'].apply(lambda x: round(x / 1_000_000))\n",
    "df_concatenado['PROFICIENCIA_MT_SAEB'] = df_concatenado['PROFICIENCIA_MT_SAEB'].apply(lambda x: round(x / 1_000_000))"
   ]
  },
  {
   "cell_type": "code",
   "execution_count": 12,
   "metadata": {
    "id": "zu75lYnsvBC2"
   },
   "outputs": [],
   "source": [
    "# Renomeia a coluna\n",
    "df_concatenado.rename(columns={\n",
    "    'ID_REGIAO': 'CO_REGIAO',\n",
    "}, inplace=True)"
   ]
  },
  {
   "cell_type": "code",
   "execution_count": 13,
   "metadata": {
    "id": "ocvl_M22uzeq"
   },
   "outputs": [],
   "source": [
    "# Cria a nova coluna com base nos valores da coluna CO_REGIAO\n",
    "df_concatenado['CO_REGIAO'] = df_concatenado['CO_REGIAO'].map({\n",
    "    3: 'Sudeste',\n",
    "    4: 'Sul'\n",
    "})"
   ]
  },
  {
   "cell_type": "code",
   "execution_count": 14,
   "metadata": {
    "colab": {
     "base_uri": "https://localhost:8080/"
    },
    "id": "UqxHxxHb0uwB",
    "outputId": "7f4a0e21-3701-4021-fe08-273004e2f3b1"
   },
   "outputs": [
    {
     "name": "stdout",
     "output_type": "stream",
     "text": [
      "====== PROFICIÊNCIA LP ====== \n",
      "Total de instâncias: 1066048\n",
      "Média: 235.87\n",
      "Moda: 276\n",
      "Mediana: 256.0\n",
      "Desvio padrão: 85.20\n",
      "Mínimo: 0\n",
      "Máximo: 379\n",
      "\n",
      "====== PROFICIÊNCIA MT ====== \n",
      "Total de instâncias: 1066048\n",
      "Média: 233.39\n",
      "Moda: 268\n",
      "Mediana: 250.0\n",
      "Desvio padrão: 84.43\n",
      "Mínimo: 0\n",
      "Máximo: 420\n"
     ]
    }
   ],
   "source": [
    "# Cálculos de estatística descritiva (média, moda, mediana, desvio padrão, mínimo e máximo)\n",
    "# Para Língua Portuguesa\n",
    "lp_count = df_concatenado['PROFICIENCIA_LP_SAEB'].count()\n",
    "media_lp = df_concatenado['PROFICIENCIA_LP_SAEB'].mean()\n",
    "moda_lp = df_concatenado['PROFICIENCIA_LP_SAEB'].mode()[0]\n",
    "mediana_lp = df_concatenado['PROFICIENCIA_LP_SAEB'].median()\n",
    "desvio_lp = df_concatenado['PROFICIENCIA_LP_SAEB'].std()\n",
    "minimo_lp = df_concatenado['PROFICIENCIA_LP_SAEB'].min()\n",
    "maximo_lp = df_concatenado['PROFICIENCIA_LP_SAEB'].max()\n",
    "\n",
    "# Para Matemática\n",
    "mt_count = df_concatenado['PROFICIENCIA_MT_SAEB'].count()\n",
    "media_mt = df_concatenado['PROFICIENCIA_MT_SAEB'].mean()\n",
    "moda_mt = df_concatenado['PROFICIENCIA_MT_SAEB'].mode()[0]\n",
    "mediana_mt = df_concatenado['PROFICIENCIA_MT_SAEB'].median()\n",
    "desvio_mt = df_concatenado['PROFICIENCIA_MT_SAEB'].std()\n",
    "minimo_mt = df_concatenado['PROFICIENCIA_MT_SAEB'].min()\n",
    "maximo_mt = df_concatenado['PROFICIENCIA_MT_SAEB'].max()\n",
    "\n",
    "print(\"====== PROFICIÊNCIA LP ====== \")\n",
    "print(f\"Total de instâncias: {lp_count}\")\n",
    "print(f\"Média: {media_lp:.2f}\")\n",
    "print(f\"Moda: {moda_lp}\")\n",
    "print(f\"Mediana: {mediana_lp}\")\n",
    "print(f\"Desvio padrão: {desvio_lp:.2f}\")\n",
    "print(f\"Mínimo: {minimo_lp}\")\n",
    "print(f\"Máximo: {maximo_lp}\")\n",
    "\n",
    "print(\"\\n====== PROFICIÊNCIA MT ====== \")\n",
    "print(f\"Total de instâncias: {mt_count}\")\n",
    "print(f\"Média: {media_mt:.2f}\")\n",
    "print(f\"Moda: {moda_mt}\")\n",
    "print(f\"Mediana: {mediana_mt}\")\n",
    "print(f\"Desvio padrão: {desvio_mt:.2f}\")\n",
    "print(f\"Mínimo: {minimo_mt}\")\n",
    "print(f\"Máximo: {maximo_mt}\")"
   ]
  },
  {
   "cell_type": "code",
   "execution_count": 15,
   "metadata": {
    "colab": {
     "base_uri": "https://localhost:8080/"
    },
    "id": "fTz0ggsV5DGo",
    "outputId": "7ecd95da-1ffd-4343-eb38-0d7d9545b0bb"
   },
   "outputs": [
    {
     "name": "stdout",
     "output_type": "stream",
     "text": [
      "(1066048, 4)\n"
     ]
    }
   ],
   "source": [
    "print(df_concatenado.shape)"
   ]
  },
  {
   "cell_type": "code",
   "execution_count": 16,
   "metadata": {
    "id": "DDgfX6WowHOG"
   },
   "outputs": [],
   "source": [
    "# Exportar dataset\n",
    "df_concatenado.to_csv('df_saeb.csv', index=False)"
   ]
  },
  {
   "cell_type": "markdown",
   "metadata": {
    "id": "ru2S0O9ok48E"
   },
   "source": [
    "# Censo Escolar"
   ]
  },
  {
   "cell_type": "code",
   "execution_count": 18,
   "metadata": {
    "colab": {
     "base_uri": "https://localhost:8080/"
    },
    "id": "iMm_QbRO5DnW",
    "outputId": "ed2cf3d7-7155-48c5-9b9a-fc2cfd009e3e"
   },
   "outputs": [
    {
     "name": "stdout",
     "output_type": "stream",
     "text": [
      "O DataFrame tem 75658 linhas e 22 colunas.\n",
      "O DataFrame tem 28662 linhas e 22 colunas.\n"
     ]
    }
   ],
   "source": [
    "# Linhas e Colunas\n",
    "df1 = pd.read_excel('censosudeste.xlsx')\n",
    "\n",
    "linhas, colunas = df1.shape\n",
    "print(f\"O DataFrame tem {linhas} linhas e {colunas} colunas.\")\n",
    "\n",
    "\n",
    "df2 = pd.read_excel('censosul.xlsx')\n",
    "\n",
    "linhas, colunas = df2.shape\n",
    "print(f\"O DataFrame tem {linhas} linhas e {colunas} colunas.\")"
   ]
  },
  {
   "cell_type": "code",
   "execution_count": 19,
   "metadata": {
    "colab": {
     "base_uri": "https://localhost:8080/",
     "height": 255
    },
    "id": "tl9-sd19lHeO",
    "outputId": "8f48674c-7ef2-4b01-f7d1-9e0ff1a84d05"
   },
   "outputs": [
    {
     "data": {
      "text/html": [
       "<div>\n",
       "<style scoped>\n",
       "    .dataframe tbody tr th:only-of-type {\n",
       "        vertical-align: middle;\n",
       "    }\n",
       "\n",
       "    .dataframe tbody tr th {\n",
       "        vertical-align: top;\n",
       "    }\n",
       "\n",
       "    .dataframe thead th {\n",
       "        text-align: right;\n",
       "    }\n",
       "</style>\n",
       "<table border=\"1\" class=\"dataframe\">\n",
       "  <thead>\n",
       "    <tr style=\"text-align: right;\">\n",
       "      <th></th>\n",
       "      <th>NO_REGIAO</th>\n",
       "      <th>CO_REGIAO</th>\n",
       "      <th>SG_UF</th>\n",
       "      <th>CO_UF</th>\n",
       "      <th>IN_AGUA_POTAVEL</th>\n",
       "      <th>IN_ESGOTO_INEXISTENTE</th>\n",
       "      <th>IN_BANHEIRO</th>\n",
       "      <th>IN_BIBLIOTECA</th>\n",
       "      <th>IN_COZINHA</th>\n",
       "      <th>IN_LABORATORIO_CIENCIAS</th>\n",
       "      <th>...</th>\n",
       "      <th>IN_PATIO_DESCOBERTO</th>\n",
       "      <th>IN_PARQUE_INFANTIL</th>\n",
       "      <th>IN_QUADRA_ESPORTES</th>\n",
       "      <th>IN_QUADRA_ESPORTES_COBERTA</th>\n",
       "      <th>IN_REFEITORIO</th>\n",
       "      <th>IN_ACESSIBILIDADE_INEXISTENTE</th>\n",
       "      <th>IN_COMPUTADOR</th>\n",
       "      <th>IN_EQUIP_IMPRESSORA</th>\n",
       "      <th>IN_INTERNET</th>\n",
       "      <th>IN_INTERNET_APRENDIZAGEM</th>\n",
       "    </tr>\n",
       "  </thead>\n",
       "  <tbody>\n",
       "    <tr>\n",
       "      <th>0</th>\n",
       "      <td>Sudeste</td>\n",
       "      <td>3</td>\n",
       "      <td>MG</td>\n",
       "      <td>31</td>\n",
       "      <td>1.0</td>\n",
       "      <td>0.0</td>\n",
       "      <td>1.0</td>\n",
       "      <td>1.0</td>\n",
       "      <td>1.0</td>\n",
       "      <td>1.0</td>\n",
       "      <td>...</td>\n",
       "      <td>1.0</td>\n",
       "      <td>0.0</td>\n",
       "      <td>1.0</td>\n",
       "      <td>0.0</td>\n",
       "      <td>0.0</td>\n",
       "      <td>0.0</td>\n",
       "      <td>1.0</td>\n",
       "      <td>1.0</td>\n",
       "      <td>1.0</td>\n",
       "      <td>1.0</td>\n",
       "    </tr>\n",
       "    <tr>\n",
       "      <th>1</th>\n",
       "      <td>Sudeste</td>\n",
       "      <td>3</td>\n",
       "      <td>MG</td>\n",
       "      <td>31</td>\n",
       "      <td>1.0</td>\n",
       "      <td>0.0</td>\n",
       "      <td>1.0</td>\n",
       "      <td>1.0</td>\n",
       "      <td>1.0</td>\n",
       "      <td>0.0</td>\n",
       "      <td>...</td>\n",
       "      <td>1.0</td>\n",
       "      <td>0.0</td>\n",
       "      <td>1.0</td>\n",
       "      <td>1.0</td>\n",
       "      <td>1.0</td>\n",
       "      <td>0.0</td>\n",
       "      <td>1.0</td>\n",
       "      <td>1.0</td>\n",
       "      <td>1.0</td>\n",
       "      <td>1.0</td>\n",
       "    </tr>\n",
       "    <tr>\n",
       "      <th>2</th>\n",
       "      <td>Sudeste</td>\n",
       "      <td>3</td>\n",
       "      <td>MG</td>\n",
       "      <td>31</td>\n",
       "      <td>1.0</td>\n",
       "      <td>0.0</td>\n",
       "      <td>1.0</td>\n",
       "      <td>1.0</td>\n",
       "      <td>1.0</td>\n",
       "      <td>0.0</td>\n",
       "      <td>...</td>\n",
       "      <td>1.0</td>\n",
       "      <td>0.0</td>\n",
       "      <td>1.0</td>\n",
       "      <td>0.0</td>\n",
       "      <td>1.0</td>\n",
       "      <td>0.0</td>\n",
       "      <td>1.0</td>\n",
       "      <td>1.0</td>\n",
       "      <td>1.0</td>\n",
       "      <td>1.0</td>\n",
       "    </tr>\n",
       "    <tr>\n",
       "      <th>3</th>\n",
       "      <td>Sudeste</td>\n",
       "      <td>3</td>\n",
       "      <td>MG</td>\n",
       "      <td>31</td>\n",
       "      <td>1.0</td>\n",
       "      <td>0.0</td>\n",
       "      <td>1.0</td>\n",
       "      <td>1.0</td>\n",
       "      <td>1.0</td>\n",
       "      <td>1.0</td>\n",
       "      <td>...</td>\n",
       "      <td>1.0</td>\n",
       "      <td>0.0</td>\n",
       "      <td>1.0</td>\n",
       "      <td>0.0</td>\n",
       "      <td>1.0</td>\n",
       "      <td>1.0</td>\n",
       "      <td>1.0</td>\n",
       "      <td>1.0</td>\n",
       "      <td>1.0</td>\n",
       "      <td>1.0</td>\n",
       "    </tr>\n",
       "    <tr>\n",
       "      <th>4</th>\n",
       "      <td>Sudeste</td>\n",
       "      <td>3</td>\n",
       "      <td>MG</td>\n",
       "      <td>31</td>\n",
       "      <td>1.0</td>\n",
       "      <td>0.0</td>\n",
       "      <td>1.0</td>\n",
       "      <td>1.0</td>\n",
       "      <td>1.0</td>\n",
       "      <td>0.0</td>\n",
       "      <td>...</td>\n",
       "      <td>1.0</td>\n",
       "      <td>0.0</td>\n",
       "      <td>1.0</td>\n",
       "      <td>0.0</td>\n",
       "      <td>1.0</td>\n",
       "      <td>0.0</td>\n",
       "      <td>1.0</td>\n",
       "      <td>1.0</td>\n",
       "      <td>1.0</td>\n",
       "      <td>1.0</td>\n",
       "    </tr>\n",
       "  </tbody>\n",
       "</table>\n",
       "<p>5 rows × 22 columns</p>\n",
       "</div>"
      ],
      "text/plain": [
       "  NO_REGIAO  CO_REGIAO SG_UF  CO_UF  IN_AGUA_POTAVEL  IN_ESGOTO_INEXISTENTE  \\\n",
       "0   Sudeste          3    MG     31              1.0                    0.0   \n",
       "1   Sudeste          3    MG     31              1.0                    0.0   \n",
       "2   Sudeste          3    MG     31              1.0                    0.0   \n",
       "3   Sudeste          3    MG     31              1.0                    0.0   \n",
       "4   Sudeste          3    MG     31              1.0                    0.0   \n",
       "\n",
       "   IN_BANHEIRO  IN_BIBLIOTECA  IN_COZINHA  IN_LABORATORIO_CIENCIAS  ...  \\\n",
       "0          1.0            1.0         1.0                      1.0  ...   \n",
       "1          1.0            1.0         1.0                      0.0  ...   \n",
       "2          1.0            1.0         1.0                      0.0  ...   \n",
       "3          1.0            1.0         1.0                      1.0  ...   \n",
       "4          1.0            1.0         1.0                      0.0  ...   \n",
       "\n",
       "   IN_PATIO_DESCOBERTO  IN_PARQUE_INFANTIL  IN_QUADRA_ESPORTES  \\\n",
       "0                  1.0                 0.0                 1.0   \n",
       "1                  1.0                 0.0                 1.0   \n",
       "2                  1.0                 0.0                 1.0   \n",
       "3                  1.0                 0.0                 1.0   \n",
       "4                  1.0                 0.0                 1.0   \n",
       "\n",
       "   IN_QUADRA_ESPORTES_COBERTA  IN_REFEITORIO  IN_ACESSIBILIDADE_INEXISTENTE  \\\n",
       "0                         0.0            0.0                            0.0   \n",
       "1                         1.0            1.0                            0.0   \n",
       "2                         0.0            1.0                            0.0   \n",
       "3                         0.0            1.0                            1.0   \n",
       "4                         0.0            1.0                            0.0   \n",
       "\n",
       "   IN_COMPUTADOR  IN_EQUIP_IMPRESSORA  IN_INTERNET  IN_INTERNET_APRENDIZAGEM  \n",
       "0            1.0                  1.0          1.0                       1.0  \n",
       "1            1.0                  1.0          1.0                       1.0  \n",
       "2            1.0                  1.0          1.0                       1.0  \n",
       "3            1.0                  1.0          1.0                       1.0  \n",
       "4            1.0                  1.0          1.0                       1.0  \n",
       "\n",
       "[5 rows x 22 columns]"
      ]
     },
     "execution_count": 19,
     "metadata": {},
     "output_type": "execute_result"
    }
   ],
   "source": [
    "# Ler arquivos Excel corretamente\n",
    "# df1 = pd.read_excel('censosudeste.xlsx')\n",
    "# df2 = pd.read_excel('censosul.xlsx')\n",
    "\n",
    "# Concatenar os dois DataFrames\n",
    "df_agrupado = pd.concat([df1, df2], ignore_index=True)\n",
    "\n",
    "# Exibir as primeiras linhas\n",
    "df_agrupado.head()"
   ]
  },
  {
   "cell_type": "code",
   "execution_count": 20,
   "metadata": {
    "id": "1JcVIihllQEg"
   },
   "outputs": [],
   "source": [
    "# Excluir colunas\n",
    "df_agrupado.drop(columns=[\n",
    "    'CO_UF',\n",
    "    'IN_ESGOTO_INEXISTENTE',\n",
    "    'IN_COZINHA',\n",
    "    'IN_PATIO_COBERTO',\n",
    "    'IN_PATIO_DESCOBERTO',\n",
    "    'IN_PARQUE_INFANTIL',\n",
    "    'IN_QUADRA_ESPORTES_COBERTA',\n",
    "    'IN_ACESSIBILIDADE_INEXISTENTE',\n",
    "    'IN_COMPUTADOR',\n",
    "    'IN_EQUIP_IMPRESSORA',\n",
    "    'IN_INTERNET'\n",
    "], inplace=True)"
   ]
  },
  {
   "cell_type": "code",
   "execution_count": 21,
   "metadata": {
    "id": "MW-V366iLn21"
   },
   "outputs": [],
   "source": [
    "# Renomeia todas colunas que começam com \"IN\"\n",
    "df_agrupado.rename(columns=lambda col: col.replace('IN_', ''), inplace=True)"
   ]
  },
  {
   "cell_type": "code",
   "execution_count": 22,
   "metadata": {
    "colab": {
     "base_uri": "https://localhost:8080/"
    },
    "id": "83pVHlXtlbQG",
    "outputId": "182e7342-673d-489e-e533-9bfcf4725dff"
   },
   "outputs": [
    {
     "name": "stdout",
     "output_type": "stream",
     "text": [
      "AGUA_POTAVEL               17227\n",
      "BANHEIRO                   17227\n",
      "BIBLIOTECA                 17227\n",
      "LABORATORIO_CIENCIAS       17227\n",
      "LABORATORIO_INFORMATICA    17227\n",
      "QUADRA_ESPORTES            17227\n",
      "REFEITORIO                 17227\n",
      "INTERNET_APRENDIZAGEM      17227\n",
      "dtype: int64\n"
     ]
    }
   ],
   "source": [
    "# Calcula a quantidade de valores faltantes em cada coluna do DataFrame\n",
    "faltantes = df_agrupado.isnull().sum()\n",
    "print(faltantes[faltantes > 0])"
   ]
  },
  {
   "cell_type": "code",
   "execution_count": 23,
   "metadata": {
    "colab": {
     "base_uri": "https://localhost:8080/"
    },
    "id": "QuLu8sBLlj0y",
    "outputId": "4d357a6d-e1fb-42d8-a173-e7437c51244f"
   },
   "outputs": [
    {
     "name": "stdout",
     "output_type": "stream",
     "text": [
      "(87093, 11)\n"
     ]
    }
   ],
   "source": [
    "# Exclui linhas com dados faltantes\n",
    "df_agrupado.dropna(inplace=True)\n",
    "print(df_agrupado.shape)"
   ]
  },
  {
   "cell_type": "code",
   "execution_count": 24,
   "metadata": {
    "colab": {
     "base_uri": "https://localhost:8080/",
     "height": 226
    },
    "id": "EOzqKuFucaob",
    "outputId": "cb39f3bc-296e-4e5a-cd62-80b2251d09d6"
   },
   "outputs": [
    {
     "data": {
      "text/html": [
       "<div>\n",
       "<style scoped>\n",
       "    .dataframe tbody tr th:only-of-type {\n",
       "        vertical-align: middle;\n",
       "    }\n",
       "\n",
       "    .dataframe tbody tr th {\n",
       "        vertical-align: top;\n",
       "    }\n",
       "\n",
       "    .dataframe thead th {\n",
       "        text-align: right;\n",
       "    }\n",
       "</style>\n",
       "<table border=\"1\" class=\"dataframe\">\n",
       "  <thead>\n",
       "    <tr style=\"text-align: right;\">\n",
       "      <th></th>\n",
       "      <th>NO_REGIAO</th>\n",
       "      <th>CO_REGIAO</th>\n",
       "      <th>SG_UF</th>\n",
       "      <th>AGUA_POTAVEL</th>\n",
       "      <th>BANHEIRO</th>\n",
       "      <th>BIBLIOTECA</th>\n",
       "      <th>LABORATORIO_CIENCIAS</th>\n",
       "      <th>LABORATORIO_INFORMATICA</th>\n",
       "      <th>QUADRA_ESPORTES</th>\n",
       "      <th>REFEITORIO</th>\n",
       "      <th>INTERNET_APRENDIZAGEM</th>\n",
       "    </tr>\n",
       "  </thead>\n",
       "  <tbody>\n",
       "    <tr>\n",
       "      <th>0</th>\n",
       "      <td>Sudeste</td>\n",
       "      <td>3</td>\n",
       "      <td>MG</td>\n",
       "      <td>1.0</td>\n",
       "      <td>1.0</td>\n",
       "      <td>1.0</td>\n",
       "      <td>1.0</td>\n",
       "      <td>1.0</td>\n",
       "      <td>1.0</td>\n",
       "      <td>0.0</td>\n",
       "      <td>1.0</td>\n",
       "    </tr>\n",
       "    <tr>\n",
       "      <th>1</th>\n",
       "      <td>Sudeste</td>\n",
       "      <td>3</td>\n",
       "      <td>MG</td>\n",
       "      <td>1.0</td>\n",
       "      <td>1.0</td>\n",
       "      <td>1.0</td>\n",
       "      <td>0.0</td>\n",
       "      <td>1.0</td>\n",
       "      <td>1.0</td>\n",
       "      <td>1.0</td>\n",
       "      <td>1.0</td>\n",
       "    </tr>\n",
       "    <tr>\n",
       "      <th>2</th>\n",
       "      <td>Sudeste</td>\n",
       "      <td>3</td>\n",
       "      <td>MG</td>\n",
       "      <td>1.0</td>\n",
       "      <td>1.0</td>\n",
       "      <td>1.0</td>\n",
       "      <td>0.0</td>\n",
       "      <td>1.0</td>\n",
       "      <td>1.0</td>\n",
       "      <td>1.0</td>\n",
       "      <td>1.0</td>\n",
       "    </tr>\n",
       "    <tr>\n",
       "      <th>3</th>\n",
       "      <td>Sudeste</td>\n",
       "      <td>3</td>\n",
       "      <td>MG</td>\n",
       "      <td>1.0</td>\n",
       "      <td>1.0</td>\n",
       "      <td>1.0</td>\n",
       "      <td>1.0</td>\n",
       "      <td>1.0</td>\n",
       "      <td>1.0</td>\n",
       "      <td>1.0</td>\n",
       "      <td>1.0</td>\n",
       "    </tr>\n",
       "    <tr>\n",
       "      <th>4</th>\n",
       "      <td>Sudeste</td>\n",
       "      <td>3</td>\n",
       "      <td>MG</td>\n",
       "      <td>1.0</td>\n",
       "      <td>1.0</td>\n",
       "      <td>1.0</td>\n",
       "      <td>0.0</td>\n",
       "      <td>1.0</td>\n",
       "      <td>1.0</td>\n",
       "      <td>1.0</td>\n",
       "      <td>1.0</td>\n",
       "    </tr>\n",
       "  </tbody>\n",
       "</table>\n",
       "</div>"
      ],
      "text/plain": [
       "  NO_REGIAO  CO_REGIAO SG_UF  AGUA_POTAVEL  BANHEIRO  BIBLIOTECA  \\\n",
       "0   Sudeste          3    MG           1.0       1.0         1.0   \n",
       "1   Sudeste          3    MG           1.0       1.0         1.0   \n",
       "2   Sudeste          3    MG           1.0       1.0         1.0   \n",
       "3   Sudeste          3    MG           1.0       1.0         1.0   \n",
       "4   Sudeste          3    MG           1.0       1.0         1.0   \n",
       "\n",
       "   LABORATORIO_CIENCIAS  LABORATORIO_INFORMATICA  QUADRA_ESPORTES  REFEITORIO  \\\n",
       "0                   1.0                      1.0              1.0         0.0   \n",
       "1                   0.0                      1.0              1.0         1.0   \n",
       "2                   0.0                      1.0              1.0         1.0   \n",
       "3                   1.0                      1.0              1.0         1.0   \n",
       "4                   0.0                      1.0              1.0         1.0   \n",
       "\n",
       "   INTERNET_APRENDIZAGEM  \n",
       "0                    1.0  \n",
       "1                    1.0  \n",
       "2                    1.0  \n",
       "3                    1.0  \n",
       "4                    1.0  "
      ]
     },
     "execution_count": 24,
     "metadata": {},
     "output_type": "execute_result"
    }
   ],
   "source": [
    "df_agrupado.head()"
   ]
  },
  {
   "cell_type": "code",
   "execution_count": 25,
   "metadata": {
    "colab": {
     "base_uri": "https://localhost:8080/"
    },
    "id": "qp_BrFThlurn",
    "outputId": "1cdefba0-838f-44e8-859a-ed130a1d9600"
   },
   "outputs": [
    {
     "name": "stdout",
     "output_type": "stream",
     "text": [
      "Coluna                                        Qtd 0      Qtd 1       Moda\n",
      "---------------------------------------------------------------------------\n",
      "AGUA_POTAVEL                                    823      86270        1.0\n",
      "BANHEIRO                                        929      86164        1.0\n",
      "BIBLIOTECA                                    50778      36315        0.0\n",
      "LABORATORIO_CIENCIAS                          73042      14051        0.0\n",
      "LABORATORIO_INFORMATICA                       52532      34561        0.0\n",
      "QUADRA_ESPORTES                               44780      42313        0.0\n",
      "REFEITORIO                                    22404      64689        1.0\n",
      "INTERNET_APRENDIZAGEM                         21281      65812        1.0\n"
     ]
    }
   ],
   "source": [
    "# Calculo a quantidade de 1 e 0 em cada coluna, e a média de cada coluna.\n",
    "colunas = [\n",
    "    'AGUA_POTAVEL', 'BANHEIRO', 'BIBLIOTECA',\n",
    "    'LABORATORIO_CIENCIAS', 'LABORATORIO_INFORMATICA',\n",
    "    'QUADRA_ESPORTES', 'REFEITORIO', 'INTERNET_APRENDIZAGEM'\n",
    "]\n",
    "\n",
    "print(f\"{'Coluna':40} {'Qtd 0':>10} {'Qtd 1':>10} {'Moda':>10}\")\n",
    "print(\"-\" * 75)\n",
    "\n",
    "for coluna in colunas:\n",
    "    contagem = df_agrupado[coluna].value_counts().sort_index()\n",
    "    zeros = contagem[0]\n",
    "    uns = contagem[1]\n",
    "\n",
    "\n",
    "    # Cálculo da moda\n",
    "    moda = df_agrupado[coluna].mode()\n",
    "    moda_valor = moda.iloc[0]\n",
    "\n",
    "    print(f\"{coluna:40} {zeros:10} {uns:10} {str(moda_valor):>10}\")"
   ]
  },
  {
   "cell_type": "code",
   "execution_count": 26,
   "metadata": {},
   "outputs": [],
   "source": [
    "# Exportar dataset\n",
    "df_agrupado.to_csv('df_censo.csv', index=False)"
   ]
  },
  {
   "cell_type": "markdown",
   "metadata": {
    "id": "QTI0Dn4xZ5se"
   },
   "source": [
    "# Gráficos"
   ]
  },
  {
   "cell_type": "code",
   "execution_count": 35,
   "metadata": {
    "colab": {
     "base_uri": "https://localhost:8080/",
     "height": 507
    },
    "id": "TZ1JraJJZ-7B",
    "outputId": "6daef08a-dbc2-4dd3-9268-f512f8938b4a"
   },
   "outputs": [
    {
     "data": {
      "image/png": "[encoded data removed]",
      "text/plain": [
       "<Figure size 800x500 with 1 Axes>"
      ]
     },
     "metadata": {},
     "output_type": "display_data"
    }
   ],
   "source": [
    "df_concatenado.groupby('CO_REGIAO')[['PROFICIENCIA_LP_SAEB', 'PROFICIENCIA_MT_SAEB']].mean().plot(\n",
    "    kind='bar', figsize=(8, 5)\n",
    ")\n",
    "plt.title('Média da Proficiência por Região')\n",
    "plt.ylabel('Média da Proficiência')\n",
    "plt.xticks(rotation=0)\n",
    "plt.tight_layout()\n",
    "plt.show()\n"
   ]
  },
  {
   "cell_type": "code",
   "execution_count": 41,
   "metadata": {
    "colab": {
     "base_uri": "https://localhost:8080/",
     "height": 507
    },
    "id": "hpw9ZW5faMD1",
    "outputId": "2c30d072-1d35-4ea5-996d-5841644a7193"
   },
   "outputs": [
    {
     "data": {
      "image/png": "[encoded data removed]",
      "text/plain": [
       "<Figure size 1200x500 with 2 Axes>"
      ]
     },
     "metadata": {},
     "output_type": "display_data"
    }
   ],
   "source": [
    "plt.figure(figsize=(12, 5))\n",
    "\n",
    "plt.subplot(1, 2, 1)\n",
    "sns.histplot(df_concatenado['PROFICIENCIA_LP_SAEB'], bins=30, kde=True)\n",
    "plt.title('Distribuição - Proficiência LP')\n",
    "plt.xlim(0, 400)\n",
    "\n",
    "plt.subplot(1, 2, 2)\n",
    "sns.histplot(df_concatenado['PROFICIENCIA_MT_SAEB'], bins=30, kde=True)\n",
    "plt.title('Distribuição - Proficiência MT')\n",
    "plt.xlim(0, 400)\n",
    "\n",
    "plt.tight_layout()\n",
    "plt.show()\n"
   ]
  },
  {
   "cell_type": "code",
   "execution_count": 47,
   "metadata": {
    "colab": {
     "base_uri": "https://localhost:8080/",
     "height": 607
    },
    "id": "P9gWgINmdfHh",
    "outputId": "1a1dc3de-6784-4320-d30b-3ec92369b021"
   },
   "outputs": [
    {
     "data": {
      "image/png": "[encoded data removed]",
      "text/plain": [
       "<Figure size 1000x600 with 1 Axes>"
      ]
     },
     "metadata": {},
     "output_type": "display_data"
    }
   ],
   "source": [
    "por_regiao = df_agrupado.groupby('CO_REGIAO')[colunas].mean() * 100\n",
    "por_regiao.T.plot(kind='bar', figsize=(10, 6))\n",
    "plt.title('Infraestrutura por Região (% de Escolas)')\n",
    "plt.ylabel('% com infraestrutura')\n",
    "plt.xticks(rotation=45)\n",
    "plt.tight_layout()\n",
    "plt.show()\n"
   ]
  },
  {
   "cell_type": "code",
   "execution_count": 49,
   "metadata": {
    "colab": {
     "base_uri": "https://localhost:8080/",
     "height": 607
    },
    "id": "zsx01z1edz2n",
    "outputId": "9eb64b25-da2f-48ea-c302-4066d3eaab52"
   },
   "outputs": [
    {
     "data": {
      "image/png": "[encoded data removed]",
      "text/plain": [
       "<Figure size 1000x600 with 1 Axes>"
      ]
     },
     "metadata": {},
     "output_type": "display_data"
    }
   ],
   "source": [
    "# import pandas as pd\n",
    "# import matplotlib.pyplot as plt\n",
    "\n",
    "# Lista das colunas de infraestrutura\n",
    "infra_cols = [\n",
    "    'AGUA_POTAVEL', 'BANHEIRO', 'BIBLIOTECA',\n",
    "    'LABORATORIO_CIENCIAS', 'LABORATORIO_INFORMATICA',\n",
    "    'QUADRA_ESPORTES', 'REFEITORIO', 'INTERNET_APRENDIZAGEM'\n",
    "]\n",
    "\n",
    "# Conta quantos valores 1 há em cada coluna e calcula o percentual\n",
    "percentuais = (df_agrupado[infra_cols] == 1).sum() / len(df_agrupado) * 100\n",
    "percentuais = percentuais.sort_values()\n",
    "\n",
    "# Gráfico de barras horizontal\n",
    "percentuais.plot(kind='barh', figsize=(10, 6), color='steelblue')\n",
    "plt.title('Percentual de Escolas com Infraestrutura')\n",
    "plt.xlabel('% de Escolas')\n",
    "plt.xlim(0, 100)\n",
    "plt.tight_layout()\n",
    "plt.show()\n"
   ]
  },
  {
   "cell_type": "code",
   "execution_count": null,
   "metadata": {
    "id": "dTd6nkZBerp8"
   },
   "outputs": [],
   "source": []
  }
 ],
 "metadata": {
  "colab": {
   "collapsed_sections": [
    "M3Z7Sje8iQFl",
    "qlOUZphPiWq9"
   ],
   "provenance": []
  },
  "kernelspec": {
   "display_name": "Python 3 (ipykernel)",
   "language": "python",
   "name": "python3"
  },
  "language_info": {
   "codemirror_mode": {
    "name": "ipython",
    "version": 3
   },
   "file_extension": ".py",
   "mimetype": "text/x-python",
   "name": "python",
   "nbconvert_exporter": "python",
   "pygments_lexer": "ipython3",
   "version": "3.11.9"
  }
 },
 "nbformat": 4,
 "nbformat_minor": 4
}
